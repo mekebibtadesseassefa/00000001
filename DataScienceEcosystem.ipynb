{
 "cells": [
  {
   "cell_type": "markdown",
   "id": "011d62f9-79ff-4c0c-ad61-a876f190312d",
   "metadata": {},
   "source": [
    "# Data Science Tools and Ecosytem\n"
   ]
  },
  {
   "cell_type": "markdown",
   "id": "f2cdb473-6b8b-4345-87a9-e73dc0337893",
   "metadata": {},
   "source": [
    "In this notebook, Data Science Tools and Ecosystem are summarized.\n"
   ]
  },
  {
   "cell_type": "markdown",
   "id": "348fb703-c858-46b5-bb42-4d5c85db8e83",
   "metadata": {},
   "source": [
    "Objectivies: \n",
    "- Languages that Data Scientists use\n",
    "- Libraries used by Data Scientists\n",
    "- Data Science Tools"
   ]
  },
  {
   "cell_type": "markdown",
   "id": "797456b4-e282-4241-94b1-4a445ec98e98",
   "metadata": {
    "tags": []
   },
   "source": [
    "Some of the popular languages that Data Scientists use are:\n",
    "1. Python\n",
    "2. R\n",
    "3. SQL\n",
    "4. Julia\n",
    "5. MATLAB\n",
    "6. Scala\n",
    "\n",
    "\n",
    "\n"
   ]
  },
  {
   "cell_type": "markdown",
   "id": "a0eb3cbe-0fb9-4bb2-bd48-d6bb6c3353a9",
   "metadata": {},
   "source": [
    "Some of the commonly used libraries used by Data Scientists include:\n",
    "1. Numpy\n",
    "2. Tensorflow\n",
    "3. Pytorch\n",
    "4. ggplot2\n",
    "5. dplyr\n",
    "6. ploty "
   ]
  },
  {
   "cell_type": "markdown",
   "id": "89ab8da7-ddab-4303-9a67-b3ee6be4bff1",
   "metadata": {},
   "source": [
    "| Data Science Tools|\n",
    "|--------------------|\n",
    "| Jupeter Notebook|\n",
    "|Rstudio|\n",
    "| Apache Zeppelin|"
   ]
  },
  {
   "cell_type": "markdown",
   "id": "d9943865-4e13-4057-b3f1-b5e6969a02d6",
   "metadata": {},
   "source": [
    "### Below are a few examples of evaluating arithmetic expressions in Python"
   ]
  },
  {
   "cell_type": "code",
   "execution_count": 3,
   "id": "f9a49ae6-f242-4d28-a8f7-c59083adbe02",
   "metadata": {},
   "outputs": [
    {
     "data": {
      "text/plain": [
       "17"
      ]
     },
     "execution_count": 3,
     "metadata": {},
     "output_type": "execute_result"
    }
   ],
   "source": [
    "(3*4)+5  # This a simple arithmetic expression to mutiply then add integers"
   ]
  },
  {
   "cell_type": "code",
   "execution_count": 1,
   "id": "6c9bc6fb-6760-4a64-8321-0db7a94f7ac0",
   "metadata": {
    "tags": []
   },
   "outputs": [
    {
     "data": {
      "text/plain": [
       "3.3333333333333335"
      ]
     },
     "execution_count": 1,
     "metadata": {},
     "output_type": "execute_result"
    }
   ],
   "source": [
    "200/60   # This will convert 200 minutes to hours by diving by 60"
   ]
  },
  {
   "cell_type": "markdown",
   "id": "8d46dd2e-93da-4edf-8da5-7953742e4a3f",
   "metadata": {},
   "source": [
    "## Author \n",
    "Mekebib Tadesse Assefa "
   ]
  },
  {
   "cell_type": "code",
   "execution_count": null,
   "id": "3f119fae-1cb7-41b6-93cd-015393eadedc",
   "metadata": {},
   "outputs": [],
   "source": []
  }
 ],
 "metadata": {
  "kernelspec": {
   "display_name": "Python",
   "language": "python",
   "name": "conda-env-python-py"
  },
  "language_info": {
   "codemirror_mode": {
    "name": "ipython",
    "version": 3
   },
   "file_extension": ".py",
   "mimetype": "text/x-python",
   "name": "python",
   "nbconvert_exporter": "python",
   "pygments_lexer": "ipython3",
   "version": "3.7.12"
  }
 },
 "nbformat": 4,
 "nbformat_minor": 5
}
