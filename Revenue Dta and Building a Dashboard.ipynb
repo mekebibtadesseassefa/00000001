{
 "cells": [
  {
   "cell_type": "code",
   "execution_count": 36,
   "metadata": {
    "ExecuteTime": {
     "end_time": "2024-10-12T23:21:10.322799Z",
     "start_time": "2024-10-12T23:21:10.307795Z"
    }
   },
   "outputs": [],
   "source": [
    "#!pip install yfinance==0.2.38\n",
    "#!pip install pandas==2.2.2\n",
    "#!pip install nbformat"
   ]
  },
  {
   "cell_type": "code",
   "execution_count": 37,
   "metadata": {
    "ExecuteTime": {
     "end_time": "2024-10-12T23:21:11.026965Z",
     "start_time": "2024-10-12T23:21:11.011961Z"
    }
   },
   "outputs": [],
   "source": [
    "import warnings\n",
    "# Ignore all warnings\n",
    "warnings.filterwarnings(\"ignore\", category=FutureWarning)"
   ]
  },
  {
   "cell_type": "code",
   "execution_count": 38,
   "metadata": {
    "ExecuteTime": {
     "end_time": "2024-10-12T23:21:11.042969Z",
     "start_time": "2024-10-12T23:21:11.027965Z"
    }
   },
   "outputs": [],
   "source": [
    "def make_graph(stock_data, revenue_data, stock):\n",
    "    fig = make_subplots(rows=2, cols=1, shared_xaxes=True, subplot_titles=(\"Historical Share Price\", \"Historical Revenue\"), vertical_spacing = .3)\n",
    "    stock_data_specific = stock_data[stock_data.Date <= '2021--06-14']\n",
    "    revenue_data_specific = revenue_data[revenue_data.Date <= '2021-04-30']\n",
    "    fig.add_trace(go.Scatter(x=pd.to_datetime(stock_data_specific.Date), y=stock_data_specific.Close.astype(\"float\"), name=\"Share Price\"), row=1, col=1)\n",
    "    fig.add_trace(go.Scatter(x=pd.to_datetime(revenue_data_specific.Date), y=revenue_data_specific.Revenue.astype(\"float\"), name=\"Revenue\"), row=2, col=1)\n",
    "    fig.update_xaxes(title_text=\"Date\", row=1, col=1)\n",
    "    fig.update_xaxes(title_text=\"Date\", row=2, col=1)\n",
    "    fig.update_yaxes(title_text=\"Price ($US)\", row=1, col=1)\n",
    "    fig.update_yaxes(title_text=\"Revenue ($US Millions)\", row=2, col=1)\n",
    "    fig.update_layout(showlegend=False,\n",
    "    height=900,\n",
    "    title=stock,\n",
    "    xaxis_rangeslider_visible=True)\n",
    "    fig.show()"
   ]
  },
  {
   "cell_type": "code",
   "execution_count": 39,
   "metadata": {
    "ExecuteTime": {
     "end_time": "2024-10-12T23:21:11.010961Z",
     "start_time": "2024-10-12T23:21:10.323799Z"
    }
   },
   "outputs": [],
   "source": [
    "import yfinance as yf\n",
    "import pandas as pd\n",
    "import requests\n",
    "from bs4 import BeautifulSoup\n",
    "import plotly.graph_objects as go\n",
    "from plotly.subplots import make_subplots"
   ]
  },
  {
   "cell_type": "markdown",
   "metadata": {},
   "source": [
    "## Question 1 - Extracting Tesla Stock Data Using yfinance\n"
   ]
  },
  {
   "cell_type": "markdown",
   "metadata": {},
   "source": [
    "Using the `Ticker` function enter the ticker symbol of the stock we want to extract data on to create a ticker object. The stock is Tesla and its ticker symbol is `TSLA`.\n"
   ]
  },
  {
   "cell_type": "code",
   "execution_count": 40,
   "metadata": {
    "ExecuteTime": {
     "end_time": "2024-10-12T23:21:11.457067Z",
     "start_time": "2024-10-12T23:21:11.441063Z"
    }
   },
   "outputs": [],
   "source": [
    "\n",
    "ticker_symbol = 'TSLA'\n",
    "tesla_ticker = yf.Ticker(ticker_symbol)"
   ]
  },
  {
   "cell_type": "code",
   "execution_count": 41,
   "metadata": {
    "ExecuteTime": {
     "end_time": "2024-10-12T23:21:13.930149Z",
     "start_time": "2024-10-12T23:21:11.933179Z"
    }
   },
   "outputs": [
    {
     "name": "stdout",
     "output_type": "stream",
     "text": [
      "                                 Open        High         Low       Close  \\\n",
      "Date                                                                        \n",
      "2010-06-29 00:00:00-04:00    1.266667    1.666667    1.169333    1.592667   \n",
      "2010-06-30 00:00:00-04:00    1.719333    2.028000    1.553333    1.588667   \n",
      "2010-07-01 00:00:00-04:00    1.666667    1.728000    1.351333    1.464000   \n",
      "2010-07-02 00:00:00-04:00    1.533333    1.540000    1.247333    1.280000   \n",
      "2010-07-06 00:00:00-04:00    1.333333    1.333333    1.055333    1.074000   \n",
      "...                               ...         ...         ...         ...   \n",
      "2024-10-07 00:00:00-04:00  249.000000  249.830002  240.699997  240.830002   \n",
      "2024-10-08 00:00:00-04:00  243.559998  246.210007  240.559998  244.500000   \n",
      "2024-10-09 00:00:00-04:00  243.820007  247.429993  239.509995  241.050003   \n",
      "2024-10-10 00:00:00-04:00  241.809998  242.789993  232.339996  238.770004   \n",
      "2024-10-11 00:00:00-04:00  220.130005  223.339996  214.380005  217.800003   \n",
      "\n",
      "                              Volume  Dividends  Stock Splits  \n",
      "Date                                                           \n",
      "2010-06-29 00:00:00-04:00  281494500        0.0           0.0  \n",
      "2010-06-30 00:00:00-04:00  257806500        0.0           0.0  \n",
      "2010-07-01 00:00:00-04:00  123282000        0.0           0.0  \n",
      "2010-07-02 00:00:00-04:00   77097000        0.0           0.0  \n",
      "2010-07-06 00:00:00-04:00  103003500        0.0           0.0  \n",
      "...                              ...        ...           ...  \n",
      "2024-10-07 00:00:00-04:00   68113300        0.0           0.0  \n",
      "2024-10-08 00:00:00-04:00   56303200        0.0           0.0  \n",
      "2024-10-09 00:00:00-04:00   66289500        0.0           0.0  \n",
      "2024-10-10 00:00:00-04:00   83087100        0.0           0.0  \n",
      "2024-10-11 00:00:00-04:00  142287000        0.0           0.0  \n",
      "\n",
      "[3597 rows x 7 columns]\n"
     ]
    }
   ],
   "source": [
    "tesla_data = tesla_ticker.history(period='max')  # Last 5 days of data\n",
    "print(tesla_data)"
   ]
  },
  {
   "cell_type": "markdown",
   "metadata": {},
   "source": [
    "## Question 2 - Extracting Tesla Revenue Data Using Webscraping\n"
   ]
  },
  {
   "cell_type": "markdown",
   "metadata": {},
   "source": [
    "Use the `requests` library to download the webpage https://cf-courses-data.s3.us.cloud-object-storage.appdomain.cloud/IBMDeveloperSkillsNetwork-PY0220EN-SkillsNetwork/labs/project/revenue.htm Save the text of the response as a variable named `html_data`.\n"
   ]
  },
  {
   "cell_type": "code",
   "execution_count": 42,
   "metadata": {
    "ExecuteTime": {
     "end_time": "2024-10-12T23:21:16.102190Z",
     "start_time": "2024-10-12T23:21:13.947154Z"
    }
   },
   "outputs": [
    {
     "name": "stdout",
     "output_type": "stream",
     "text": [
      "Table containing 'Tesla Quarterly Revenue' found at index 1.\n"
     ]
    }
   ],
   "source": [
    "from bs4 import BeautifulSoup\n",
    "import requests\n",
    "\n",
    "# Example URL to fetch HTML content\n",
    "url = 'https://cf-courses-data.s3.us.cloud-object-storage.appdomain.cloud/IBMDeveloperSkillsNetwork-PY0220EN-SkillsNetwork/labs/project/revenue.htm'\n",
    "\n",
    "# Fetch the HTML content from the URL\n",
    "response = requests.get(url)\n",
    "html_data = response.content  # This is a bytes object\n",
    "\n",
    "# Create a BeautifulSoup object directly from the bytes object\n",
    "soup = BeautifulSoup(html_data, 'html5lib')\n",
    "\n",
    "# Extract all tables from the HTML content\n",
    "tables = soup.find_all('table')\n",
    "\n",
    "# Initialize a variable to store the index of the table containing 'Tesla Quarterly Revenue'\n",
    "table_index = None\n",
    "\n",
    "# Loop through the tables to find the one containing 'Tesla Quarterly Revenue'\n",
    "for index, table in enumerate(tables):\n",
    "    if 'Tesla Quarterly Revenue' in str(table):\n",
    "        table_index = index\n",
    "        break\n",
    "\n",
    "# Check if the table was found and print the result\n",
    "if table_index is not None:\n",
    "    print(f\"Table containing 'Tesla Quarterly Revenue' found at index {table_index}.\")\n",
    "else:\n",
    "    print(\"Table containing 'Tesla Quarterly Revenue' not found.\")\n"
   ]
  },
  {
   "cell_type": "markdown",
   "metadata": {},
   "source": [
    "Parse the html data using `beautiful_soup` using parser i.e `html5lib` or `html.parser`. Make sure to use the `html_data` with the content parameter as follow `html_data.content` .\n"
   ]
  },
  {
   "cell_type": "markdown",
   "metadata": {},
   "source": [
    "Using `BeautifulSoup` or the `read_html` function extract the table with `Tesla Revenue` and store it into a dataframe named `tesla_revenue`. The dataframe should have columns `Date` and `Revenue`.\n"
   ]
  },
  {
   "cell_type": "code",
   "execution_count": 43,
   "metadata": {
    "ExecuteTime": {
     "end_time": "2024-10-12T20:02:06.956877Z",
     "start_time": "2024-10-12T20:02:06.933575Z"
    }
   },
   "outputs": [
    {
     "name": "stdout",
     "output_type": "stream",
     "text": [
      "Date: 2022-09-30, Revenue: $21,454\n",
      "Date: 2022-06-30, Revenue: $16,934\n",
      "Date: 2022-03-31, Revenue: $18,756\n",
      "Date: 2021-12-31, Revenue: $17,719\n",
      "Date: 2021-09-30, Revenue: $13,757\n",
      "Date: 2021-06-30, Revenue: $11,958\n",
      "Date: 2021-03-31, Revenue: $10,389\n",
      "Date: 2020-12-31, Revenue: $10,744\n",
      "Date: 2020-09-30, Revenue: $8,771\n",
      "Date: 2020-06-30, Revenue: $6,036\n",
      "Date: 2020-03-31, Revenue: $5,985\n",
      "Date: 2019-12-31, Revenue: $7,384\n",
      "Date: 2019-09-30, Revenue: $6,303\n",
      "Date: 2019-06-30, Revenue: $6,350\n",
      "Date: 2019-03-31, Revenue: $4,541\n",
      "Date: 2018-12-31, Revenue: $7,226\n",
      "Date: 2018-09-30, Revenue: $6,824\n",
      "Date: 2018-06-30, Revenue: $4,002\n",
      "Date: 2018-03-31, Revenue: $3,409\n",
      "Date: 2017-12-31, Revenue: $3,288\n",
      "Date: 2017-09-30, Revenue: $2,985\n",
      "Date: 2017-06-30, Revenue: $2,790\n",
      "Date: 2017-03-31, Revenue: $2,696\n",
      "Date: 2016-12-31, Revenue: $2,285\n",
      "Date: 2016-09-30, Revenue: $2,298\n",
      "Date: 2016-06-30, Revenue: $1,270\n",
      "Date: 2016-03-31, Revenue: $1,147\n",
      "Date: 2015-12-31, Revenue: $1,214\n",
      "Date: 2015-09-30, Revenue: $937\n",
      "Date: 2015-06-30, Revenue: $955\n",
      "Date: 2015-03-31, Revenue: $940\n",
      "Date: 2014-12-31, Revenue: $957\n",
      "Date: 2014-09-30, Revenue: $852\n",
      "Date: 2014-06-30, Revenue: $769\n",
      "Date: 2014-03-31, Revenue: $621\n",
      "Date: 2013-12-31, Revenue: $615\n",
      "Date: 2013-09-30, Revenue: $431\n",
      "Date: 2013-06-30, Revenue: $405\n",
      "Date: 2013-03-31, Revenue: $562\n",
      "Date: 2012-12-31, Revenue: $306\n",
      "Date: 2012-09-30, Revenue: $50\n",
      "Date: 2012-06-30, Revenue: $27\n",
      "Date: 2012-03-31, Revenue: $30\n",
      "Date: 2011-12-31, Revenue: $39\n",
      "Date: 2011-09-30, Revenue: $58\n",
      "Date: 2011-06-30, Revenue: $58\n",
      "Date: 2011-03-31, Revenue: $49\n",
      "Date: 2010-12-31, Revenue: $36\n",
      "Date: 2010-09-30, Revenue: $31\n",
      "Date: 2010-06-30, Revenue: $28\n",
      "Date: 2010-03-31, Revenue: $21\n",
      "Date: 2009-12-31, Revenue: \n",
      "Date: 2009-09-30, Revenue: $46\n",
      "Date: 2009-06-30, Revenue: $27\n",
      "DataFrame before cleaning:\n",
      "          Date  Revenue\n",
      "0   2022-09-30  $21,454\n",
      "1   2022-06-30  $16,934\n",
      "2   2022-03-31  $18,756\n",
      "3   2021-12-31  $17,719\n",
      "4   2021-09-30  $13,757\n",
      "5   2021-06-30  $11,958\n",
      "6   2021-03-31  $10,389\n",
      "7   2020-12-31  $10,744\n",
      "8   2020-09-30   $8,771\n",
      "9   2020-06-30   $6,036\n",
      "10  2020-03-31   $5,985\n",
      "11  2019-12-31   $7,384\n",
      "12  2019-09-30   $6,303\n",
      "13  2019-06-30   $6,350\n",
      "14  2019-03-31   $4,541\n",
      "15  2018-12-31   $7,226\n",
      "16  2018-09-30   $6,824\n",
      "17  2018-06-30   $4,002\n",
      "18  2018-03-31   $3,409\n",
      "19  2017-12-31   $3,288\n",
      "20  2017-09-30   $2,985\n",
      "21  2017-06-30   $2,790\n",
      "22  2017-03-31   $2,696\n",
      "23  2016-12-31   $2,285\n",
      "24  2016-09-30   $2,298\n",
      "25  2016-06-30   $1,270\n",
      "26  2016-03-31   $1,147\n",
      "27  2015-12-31   $1,214\n",
      "28  2015-09-30     $937\n",
      "29  2015-06-30     $955\n",
      "30  2015-03-31     $940\n",
      "31  2014-12-31     $957\n",
      "32  2014-09-30     $852\n",
      "33  2014-06-30     $769\n",
      "34  2014-03-31     $621\n",
      "35  2013-12-31     $615\n",
      "36  2013-09-30     $431\n",
      "37  2013-06-30     $405\n",
      "38  2013-03-31     $562\n",
      "39  2012-12-31     $306\n",
      "40  2012-09-30      $50\n",
      "41  2012-06-30      $27\n",
      "42  2012-03-31      $30\n",
      "43  2011-12-31      $39\n",
      "44  2011-09-30      $58\n",
      "45  2011-06-30      $58\n",
      "46  2011-03-31      $49\n",
      "47  2010-12-31      $36\n",
      "48  2010-09-30      $31\n",
      "49  2010-06-30      $28\n",
      "50  2010-03-31      $21\n",
      "51  2009-12-31         \n",
      "52  2009-09-30      $46\n",
      "53  2009-06-30      $27\n",
      "DataFrame after cleaning:\n",
      "          Date  Revenue\n",
      "0   2022-09-30  $21,454\n",
      "1   2022-06-30  $16,934\n",
      "2   2022-03-31  $18,756\n",
      "3   2021-12-31  $17,719\n",
      "4   2021-09-30  $13,757\n",
      "5   2021-06-30  $11,958\n",
      "6   2021-03-31  $10,389\n",
      "7   2020-12-31  $10,744\n",
      "8   2020-09-30   $8,771\n",
      "9   2020-06-30   $6,036\n",
      "10  2020-03-31   $5,985\n",
      "11  2019-12-31   $7,384\n",
      "12  2019-09-30   $6,303\n",
      "13  2019-06-30   $6,350\n",
      "14  2019-03-31   $4,541\n",
      "15  2018-12-31   $7,226\n",
      "16  2018-09-30   $6,824\n",
      "17  2018-06-30   $4,002\n",
      "18  2018-03-31   $3,409\n",
      "19  2017-12-31   $3,288\n",
      "20  2017-09-30   $2,985\n",
      "21  2017-06-30   $2,790\n",
      "22  2017-03-31   $2,696\n",
      "23  2016-12-31   $2,285\n",
      "24  2016-09-30   $2,298\n",
      "25  2016-06-30   $1,270\n",
      "26  2016-03-31   $1,147\n",
      "27  2015-12-31   $1,214\n",
      "28  2015-09-30     $937\n",
      "29  2015-06-30     $955\n",
      "30  2015-03-31     $940\n",
      "31  2014-12-31     $957\n",
      "32  2014-09-30     $852\n",
      "33  2014-06-30     $769\n",
      "34  2014-03-31     $621\n",
      "35  2013-12-31     $615\n",
      "36  2013-09-30     $431\n",
      "37  2013-06-30     $405\n",
      "38  2013-03-31     $562\n",
      "39  2012-12-31     $306\n",
      "40  2012-09-30      $50\n",
      "41  2012-06-30      $27\n",
      "42  2012-03-31      $30\n",
      "43  2011-12-31      $39\n",
      "44  2011-09-30      $58\n",
      "45  2011-06-30      $58\n",
      "46  2011-03-31      $49\n",
      "47  2010-12-31      $36\n",
      "48  2010-09-30      $31\n",
      "49  2010-06-30      $28\n",
      "50  2010-03-31      $21\n",
      "52  2009-09-30      $46\n",
      "53  2009-06-30      $27\n",
      "Final shape: (53, 2)\n"
     ]
    }
   ],
   "source": [
    "import pandas as pd\n",
    "from bs4 import BeautifulSoup\n",
    "\n",
    "# Assuming `table` is your BeautifulSoup object containing the HTML table\n",
    "\n",
    "# Initialize an empty DataFrame\n",
    "tesla_revenue = pd.DataFrame(columns=[\"Date\", \"Revenue\"])\n",
    "data = []\n",
    "\n",
    "# Extract data from the HTML table\n",
    "for row in table.find_all('tr')[1:]:  # Skip the header row\n",
    "    columns = row.find_all('td')\n",
    "    if len(columns) >= 2:\n",
    "        date = columns[0].get_text(strip=True)\n",
    "        revenue = columns[1].get_text(strip=True)\n",
    "        data.append((date, revenue))\n",
    "\n",
    "# Print the extracted data\n",
    "for date, revenue in data:\n",
    "    print(f\"Date: {date}, Revenue: {revenue}\")\n",
    "\n",
    "# Create a DataFrame from the extracted data\n",
    "tesla_revenue = pd.DataFrame(data, columns=[\"Date\", \"Revenue\"])\n",
    "\n",
    "# Check the DataFrame content\n",
    "print(\"DataFrame before cleaning:\")\n",
    "print(tesla_revenue)\n",
    "\n",
    "# Remove rows with empty strings or NaN in the Revenue column\n",
    "tesla_revenue = tesla_revenue[tesla_revenue['Revenue'].notna() & (tesla_revenue['Revenue'].str.strip() != '')]\n",
    "\n",
    "# Check the DataFrame after cleaning\n",
    "print(\"DataFrame after cleaning:\")\n",
    "print(tesla_revenue)\n",
    "\n",
    "# Check shape\n",
    "print(\"Final shape:\", tesla_revenue.shape)\n"
   ]
  },
  {
   "cell_type": "code",
   "execution_count": 44,
   "metadata": {
    "ExecuteTime": {
     "end_time": "2024-10-12T20:02:09.783416Z",
     "start_time": "2024-10-12T20:02:09.773414Z"
    }
   },
   "outputs": [],
   "source": [
    "tesla_revenue[\"Revenue\"] = tesla_revenue['Revenue'].str.replace(',|\\$',\"\", regex=True)"
   ]
  },
  {
   "cell_type": "code",
   "execution_count": 45,
   "metadata": {
    "ExecuteTime": {
     "end_time": "2024-10-12T20:02:10.873827Z",
     "start_time": "2024-10-12T20:02:10.860824Z"
    }
   },
   "outputs": [],
   "source": [
    "tesla_revenue = tesla_revenue[tesla_revenue['Revenue'].notna() & (tesla_revenue['Revenue'].str.strip() != '')]\n"
   ]
  },
  {
   "cell_type": "code",
   "execution_count": 46,
   "metadata": {
    "ExecuteTime": {
     "end_time": "2024-10-12T20:02:11.584300Z",
     "start_time": "2024-10-12T20:02:11.569296Z"
    }
   },
   "outputs": [
    {
     "name": "stdout",
     "output_type": "stream",
     "text": [
      "Date: 2022-09-30, Revenue: $21,454\n",
      "Date: 2022-06-30, Revenue: $16,934\n",
      "Date: 2022-03-31, Revenue: $18,756\n",
      "Date: 2021-12-31, Revenue: $17,719\n",
      "Date: 2021-09-30, Revenue: $13,757\n",
      "Date: 2021-06-30, Revenue: $11,958\n",
      "Date: 2021-03-31, Revenue: $10,389\n",
      "Date: 2020-12-31, Revenue: $10,744\n",
      "Date: 2020-09-30, Revenue: $8,771\n",
      "Date: 2020-06-30, Revenue: $6,036\n",
      "Date: 2020-03-31, Revenue: $5,985\n",
      "Date: 2019-12-31, Revenue: $7,384\n",
      "Date: 2019-09-30, Revenue: $6,303\n",
      "Date: 2019-06-30, Revenue: $6,350\n",
      "Date: 2019-03-31, Revenue: $4,541\n",
      "Date: 2018-12-31, Revenue: $7,226\n",
      "Date: 2018-09-30, Revenue: $6,824\n",
      "Date: 2018-06-30, Revenue: $4,002\n",
      "Date: 2018-03-31, Revenue: $3,409\n",
      "Date: 2017-12-31, Revenue: $3,288\n",
      "Date: 2017-09-30, Revenue: $2,985\n",
      "Date: 2017-06-30, Revenue: $2,790\n",
      "Date: 2017-03-31, Revenue: $2,696\n",
      "Date: 2016-12-31, Revenue: $2,285\n",
      "Date: 2016-09-30, Revenue: $2,298\n",
      "Date: 2016-06-30, Revenue: $1,270\n",
      "Date: 2016-03-31, Revenue: $1,147\n",
      "Date: 2015-12-31, Revenue: $1,214\n",
      "Date: 2015-09-30, Revenue: $937\n",
      "Date: 2015-06-30, Revenue: $955\n",
      "Date: 2015-03-31, Revenue: $940\n",
      "Date: 2014-12-31, Revenue: $957\n",
      "Date: 2014-09-30, Revenue: $852\n",
      "Date: 2014-06-30, Revenue: $769\n",
      "Date: 2014-03-31, Revenue: $621\n",
      "Date: 2013-12-31, Revenue: $615\n",
      "Date: 2013-09-30, Revenue: $431\n",
      "Date: 2013-06-30, Revenue: $405\n",
      "Date: 2013-03-31, Revenue: $562\n",
      "Date: 2012-12-31, Revenue: $306\n",
      "Date: 2012-09-30, Revenue: $50\n",
      "Date: 2012-06-30, Revenue: $27\n",
      "Date: 2012-03-31, Revenue: $30\n",
      "Date: 2011-12-31, Revenue: $39\n",
      "Date: 2011-09-30, Revenue: $58\n",
      "Date: 2011-06-30, Revenue: $58\n",
      "Date: 2011-03-31, Revenue: $49\n",
      "Date: 2010-12-31, Revenue: $36\n",
      "Date: 2010-09-30, Revenue: $31\n",
      "Date: 2010-06-30, Revenue: $28\n",
      "Date: 2010-03-31, Revenue: $21\n",
      "Date: 2009-12-31, Revenue: \n",
      "Date: 2009-09-30, Revenue: $46\n",
      "Date: 2009-06-30, Revenue: $27\n"
     ]
    }
   ],
   "source": [
    "tesla_revenue.dropna(inplace=True)\n",
    "\n",
    "tesla_revenue = tesla_revenue[tesla_revenue['Revenue'] != \"\"]\n",
    "for date, revenue in data:\n",
    " print(f\"Date: {date}, Revenue: {revenue}\")"
   ]
  },
  {
   "cell_type": "code",
   "execution_count": 47,
   "metadata": {
    "ExecuteTime": {
     "end_time": "2024-10-12T20:02:12.941541Z",
     "start_time": "2024-10-12T20:02:12.922536Z"
    }
   },
   "outputs": [
    {
     "name": "stdout",
     "output_type": "stream",
     "text": [
      "Updated shape: (53, 2)\n"
     ]
    }
   ],
   "source": [
    "# Remove duplicate rows from the DataFrame\n",
    "tesla_revenue = tesla_revenue.drop_duplicates()\n",
    "\n",
    "# Verify the shape of the DataFrame\n",
    "print(\"Updated shape:\", tesla_revenue.shape)\n"
   ]
  },
  {
   "cell_type": "code",
   "execution_count": 48,
   "metadata": {
    "ExecuteTime": {
     "end_time": "2024-10-12T20:02:13.490606Z",
     "start_time": "2024-10-12T20:02:13.472602Z"
    },
    "scrolled": true
   },
   "outputs": [
    {
     "name": "stdout",
     "output_type": "stream",
     "text": [
      "          Date Revenue\n",
      "48  2010-09-30      31\n",
      "49  2010-06-30      28\n",
      "50  2010-03-31      21\n",
      "52  2009-09-30      46\n",
      "53  2009-06-30      27\n"
     ]
    }
   ],
   "source": [
    "print(tesla_revenue.tail())"
   ]
  },
  {
   "cell_type": "markdown",
   "metadata": {},
   "source": [
    "## Question 3 - Extracting GameStop Stock Data Using yfinance\n"
   ]
  },
  {
   "cell_type": "code",
   "execution_count": 49,
   "metadata": {
    "ExecuteTime": {
     "end_time": "2024-10-12T20:02:15.166217Z",
     "start_time": "2024-10-12T20:02:15.158461Z"
    }
   },
   "outputs": [],
   "source": [
    "ticker_symbol = 'GME'\n",
    "gamestop_ticker = yf.Ticker(ticker_symbol)"
   ]
  },
  {
   "cell_type": "code",
   "execution_count": 50,
   "metadata": {
    "ExecuteTime": {
     "end_time": "2024-10-12T20:02:17.284268Z",
     "start_time": "2024-10-12T20:02:16.426910Z"
    }
   },
   "outputs": [
    {
     "name": "stdout",
     "output_type": "stream",
     "text": [
      "                                Open       High        Low      Close  \\\n",
      "Date                                                                    \n",
      "2002-02-13 00:00:00-05:00   1.620128   1.693350   1.603296   1.691666   \n",
      "2002-02-14 00:00:00-05:00   1.712707   1.716074   1.670626   1.683251   \n",
      "2002-02-15 00:00:00-05:00   1.683250   1.687458   1.658002   1.674834   \n",
      "2002-02-19 00:00:00-05:00   1.666418   1.666418   1.578047   1.607504   \n",
      "2002-02-20 00:00:00-05:00   1.615920   1.662210   1.603296   1.662210   \n",
      "...                              ...        ...        ...        ...   \n",
      "2024-10-07 00:00:00-04:00  21.350000  21.530001  20.809999  20.900000   \n",
      "2024-10-08 00:00:00-04:00  20.900000  21.270000  20.530001  20.709999   \n",
      "2024-10-09 00:00:00-04:00  20.500000  20.740000  20.299999  20.500000   \n",
      "2024-10-10 00:00:00-04:00  20.469999  21.049999  20.379999  20.910000   \n",
      "2024-10-11 00:00:00-04:00  20.660000  21.219999  20.660000  20.830000   \n",
      "\n",
      "                             Volume  Dividends  Stock Splits  \n",
      "Date                                                          \n",
      "2002-02-13 00:00:00-05:00  76216000        0.0           0.0  \n",
      "2002-02-14 00:00:00-05:00  11021600        0.0           0.0  \n",
      "2002-02-15 00:00:00-05:00   8389600        0.0           0.0  \n",
      "2002-02-19 00:00:00-05:00   7410400        0.0           0.0  \n",
      "2002-02-20 00:00:00-05:00   6892800        0.0           0.0  \n",
      "...                             ...        ...           ...  \n",
      "2024-10-07 00:00:00-04:00   5988000        0.0           0.0  \n",
      "2024-10-08 00:00:00-04:00   4840500        0.0           0.0  \n",
      "2024-10-09 00:00:00-04:00   3914000        0.0           0.0  \n",
      "2024-10-10 00:00:00-04:00   4180800        0.0           0.0  \n",
      "2024-10-11 00:00:00-04:00   3912200        0.0           0.0  \n",
      "\n",
      "[5705 rows x 7 columns]\n"
     ]
    }
   ],
   "source": [
    "gme_data = gamestop_ticker.history(period='max')  # Last 5 days of data\n",
    "print(gme_data)"
   ]
  },
  {
   "cell_type": "markdown",
   "metadata": {},
   "source": [
    "## Question 4: Use Webscraping to Extract GME Revenue Data\n"
   ]
  },
  {
   "cell_type": "markdown",
   "metadata": {},
   "source": [
    "Use the `requests` library to download the webpage https://cf-courses-data.s3.us.cloud-object-storage.appdomain.cloud/IBMDeveloperSkillsNetwork-PY0220EN-SkillsNetwork/labs/project/stock.html. Save the text of the response as a variable named `html_data_2`.\n"
   ]
  },
  {
   "cell_type": "code",
   "execution_count": 51,
   "metadata": {
    "ExecuteTime": {
     "end_time": "2024-10-12T20:02:21.781697Z",
     "start_time": "2024-10-12T20:02:19.991503Z"
    }
   },
   "outputs": [
    {
     "name": "stdout",
     "output_type": "stream",
     "text": [
      "Table containing GameStop Quarterly Revenue' found at index 1.\n"
     ]
    }
   ],
   "source": [
    "url = 'https://cf-courses-data.s3.us.cloud-object-storage.appdomain.cloud/IBMDeveloperSkillsNetwork-PY0220EN-SkillsNetwork/labs/project/stock.html'\n",
    "response = requests.get(url)\n",
    "html_data_2 = response.content\n",
    "soup2 = BeautifulSoup(html_data_2, 'html.parser')\n",
    "tables = soup2.find_all('table')\n",
    "table_index = None\n",
    "for index, table in enumerate(tables):\n",
    "    if 'GameStop Quarterly Revenue' in str(table):\n",
    "        table_index = index\n",
    "\n",
    "# Check if the table was found and print the result\n",
    "if table_index is not None:\n",
    "    print(f\"Table containing GameStop Quarterly Revenue' found at index {table_index}.\")\n",
    "else:\n",
    "    print(\"Table containing GameStop Quarterly Revenue' not found.\")\n",
    "    "
   ]
  },
  {
   "cell_type": "code",
   "execution_count": 52,
   "metadata": {
    "ExecuteTime": {
     "end_time": "2024-10-12T20:02:23.034885Z",
     "start_time": "2024-10-12T20:02:23.014880Z"
    }
   },
   "outputs": [
    {
     "name": "stdout",
     "output_type": "stream",
     "text": [
      "Row: 2020-04-30$1,021\n",
      "Row: 2020-01-31$2,194\n",
      "Row: 2019-10-31$1,439\n",
      "Row: 2019-07-31$1,286\n",
      "Row: 2019-04-30$1,548\n",
      "Row: 2019-01-31$3,063\n",
      "Row: 2018-10-31$1,935\n",
      "Row: 2018-07-31$1,501\n",
      "Row: 2018-04-30$1,786\n",
      "Row: 2018-01-31$2,825\n",
      "Row: 2017-10-31$1,989\n",
      "Row: 2017-07-31$1,688\n",
      "Row: 2017-04-30$2,046\n",
      "Row: 2017-01-31$2,403\n",
      "Row: 2016-10-31$1,959\n",
      "Row: 2016-07-31$1,632\n",
      "Row: 2016-04-30$1,972\n",
      "Row: 2016-01-31$3,525\n",
      "Row: 2015-10-31$2,016\n",
      "Row: 2015-07-31$1,762\n",
      "Row: 2015-04-30$2,061\n",
      "Row: 2015-01-31$3,476\n",
      "Row: 2014-10-31$2,092\n",
      "Row: 2014-07-31$1,731\n",
      "Row: 2014-04-30$1,996\n",
      "Row: 2014-01-31$3,684\n",
      "Row: 2013-10-31$2,107\n",
      "Row: 2013-07-31$1,384\n",
      "Row: 2013-04-30$1,865\n",
      "Row: 2013-01-31$3,562\n",
      "Row: 2012-10-31$1,773\n",
      "Row: 2012-07-31$1,550\n",
      "Row: 2012-04-30$2,002\n",
      "Row: 2012-01-31$3,579\n",
      "Row: 2011-10-31$1,947\n",
      "Row: 2011-07-31$1,744\n",
      "Row: 2011-04-30$2,281\n",
      "Row: 2011-01-31$3,693\n",
      "Row: 2010-10-31$1,899\n",
      "Row: 2010-07-31$1,799\n",
      "Row: 2010-04-30$2,083\n",
      "Row: 2010-01-31$3,524\n",
      "Row: 2009-10-31$1,835\n",
      "Row: 2009-07-31$1,739\n",
      "Row: 2009-04-30$1,981\n",
      "Row: 2009-01-31$3,492\n",
      "Row: 2008-10-31$1,696\n",
      "Row: 2008-07-31$1,804\n",
      "Row: 2008-04-30$1,814\n",
      "Row: 2008-01-31$2,866\n",
      "Row: 2007-10-31$1,611\n",
      "Row: 2007-07-31$1,338\n",
      "Row: 2007-04-30$1,279\n",
      "Row: 2007-01-31$2,304\n",
      "Row: 2006-10-31$1,012\n",
      "Row: 2006-07-31$963\n",
      "Row: 2006-04-30$1,040\n",
      "Row: 2006-01-31$1,667\n",
      "Row: 2005-10-31$534\n",
      "Row: 2005-07-31$416\n",
      "Row: 2005-04-30$475\n",
      "Row: 2005-01-31$709\n",
      "Date: 2020-04-30, Revenue: $1,021\n",
      "Date: 2020-01-31, Revenue: $2,194\n",
      "Date: 2019-10-31, Revenue: $1,439\n",
      "Date: 2019-07-31, Revenue: $1,286\n",
      "Date: 2019-04-30, Revenue: $1,548\n",
      "Date: 2019-01-31, Revenue: $3,063\n",
      "Date: 2018-10-31, Revenue: $1,935\n",
      "Date: 2018-07-31, Revenue: $1,501\n",
      "Date: 2018-04-30, Revenue: $1,786\n",
      "Date: 2018-01-31, Revenue: $2,825\n",
      "Date: 2017-10-31, Revenue: $1,989\n",
      "Date: 2017-07-31, Revenue: $1,688\n",
      "Date: 2017-04-30, Revenue: $2,046\n",
      "Date: 2017-01-31, Revenue: $2,403\n",
      "Date: 2016-10-31, Revenue: $1,959\n",
      "Date: 2016-07-31, Revenue: $1,632\n",
      "Date: 2016-04-30, Revenue: $1,972\n",
      "Date: 2016-01-31, Revenue: $3,525\n",
      "Date: 2015-10-31, Revenue: $2,016\n",
      "Date: 2015-07-31, Revenue: $1,762\n",
      "Date: 2015-04-30, Revenue: $2,061\n",
      "Date: 2015-01-31, Revenue: $3,476\n",
      "Date: 2014-10-31, Revenue: $2,092\n",
      "Date: 2014-07-31, Revenue: $1,731\n",
      "Date: 2014-04-30, Revenue: $1,996\n",
      "Date: 2014-01-31, Revenue: $3,684\n",
      "Date: 2013-10-31, Revenue: $2,107\n",
      "Date: 2013-07-31, Revenue: $1,384\n",
      "Date: 2013-04-30, Revenue: $1,865\n",
      "Date: 2013-01-31, Revenue: $3,562\n",
      "Date: 2012-10-31, Revenue: $1,773\n",
      "Date: 2012-07-31, Revenue: $1,550\n",
      "Date: 2012-04-30, Revenue: $2,002\n",
      "Date: 2012-01-31, Revenue: $3,579\n",
      "Date: 2011-10-31, Revenue: $1,947\n",
      "Date: 2011-07-31, Revenue: $1,744\n",
      "Date: 2011-04-30, Revenue: $2,281\n",
      "Date: 2011-01-31, Revenue: $3,693\n",
      "Date: 2010-10-31, Revenue: $1,899\n",
      "Date: 2010-07-31, Revenue: $1,799\n",
      "Date: 2010-04-30, Revenue: $2,083\n",
      "Date: 2010-01-31, Revenue: $3,524\n",
      "Date: 2009-10-31, Revenue: $1,835\n",
      "Date: 2009-07-31, Revenue: $1,739\n",
      "Date: 2009-04-30, Revenue: $1,981\n",
      "Date: 2009-01-31, Revenue: $3,492\n",
      "Date: 2008-10-31, Revenue: $1,696\n",
      "Date: 2008-07-31, Revenue: $1,804\n",
      "Date: 2008-04-30, Revenue: $1,814\n",
      "Date: 2008-01-31, Revenue: $2,866\n",
      "Date: 2007-10-31, Revenue: $1,611\n",
      "Date: 2007-07-31, Revenue: $1,338\n",
      "Date: 2007-04-30, Revenue: $1,279\n",
      "Date: 2007-01-31, Revenue: $2,304\n",
      "Date: 2006-10-31, Revenue: $1,012\n",
      "Date: 2006-07-31, Revenue: $963\n",
      "Date: 2006-04-30, Revenue: $1,040\n",
      "Date: 2006-01-31, Revenue: $1,667\n",
      "Date: 2005-10-31, Revenue: $534\n",
      "Date: 2005-07-31, Revenue: $416\n",
      "Date: 2005-04-30, Revenue: $475\n",
      "Date: 2005-01-31, Revenue: $709\n",
      "DataFrame before cleaning:\n",
      "          Date Revenue\n",
      "0   2020-04-30  $1,021\n",
      "1   2020-01-31  $2,194\n",
      "2   2019-10-31  $1,439\n",
      "3   2019-07-31  $1,286\n",
      "4   2019-04-30  $1,548\n",
      "..         ...     ...\n",
      "57  2006-01-31  $1,667\n",
      "58  2005-10-31    $534\n",
      "59  2005-07-31    $416\n",
      "60  2005-04-30    $475\n",
      "61  2005-01-31    $709\n",
      "\n",
      "[62 rows x 2 columns]\n",
      "DataFrame after cleaning:\n",
      "          Date  Revenue\n",
      "0   2020-04-30     1021\n",
      "1   2020-01-31     2194\n",
      "2   2019-10-31     1439\n",
      "3   2019-07-31     1286\n",
      "4   2019-04-30     1548\n",
      "..         ...      ...\n",
      "57  2006-01-31     1667\n",
      "58  2005-10-31      534\n",
      "59  2005-07-31      416\n",
      "60  2005-04-30      475\n",
      "61  2005-01-31      709\n",
      "\n",
      "[62 rows x 2 columns]\n",
      "Final shape: (62, 2)\n"
     ]
    }
   ],
   "source": [
    "# Access the specific table at index 1\n",
    "table = tables[1]  # Assuming the second table is the one you want\n",
    "\n",
    "# Initialize an empty DataFrame\n",
    "gme_revenue = pd.DataFrame(columns=[\"Date\", \"Revenue\"])\n",
    "data = []\n",
    "\n",
    "# Extract data from the selected HTML table\n",
    "for row in table.find_all('tr')[1:]:  # Skip the header row\n",
    "    columns = row.find_all('td')\n",
    "    \n",
    "    # Debugging output to see each row's content\n",
    "    print(f\"Row: {row.get_text(strip=True)}\")  # Print the full row\n",
    "    \n",
    "    if len(columns) >= 2:\n",
    "        date = columns[0].get_text(strip=True)\n",
    "        revenue = columns[1].get_text(strip=True)\n",
    "        data.append((date, revenue))\n",
    "    else:\n",
    "        print(\"Row skipped due to insufficient columns\")\n",
    "\n",
    "# Print the extracted data\n",
    "for date, revenue in data:\n",
    "    print(f\"Date: {date}, Revenue: {revenue}\")\n",
    "\n",
    "# Create a DataFrame from the extracted data\n",
    "gme_revenue = pd.DataFrame(data, columns=[\"Date\", \"Revenue\"])\n",
    "\n",
    "# Check the DataFrame content\n",
    "print(\"DataFrame before cleaning:\")\n",
    "print(gme_revenue)\n",
    "\n",
    "# Convert Revenue to string to allow string operations\n",
    "gme_revenue['Revenue'] = gme_revenue['Revenue'].astype(str)\n",
    "\n",
    "# Clean the Revenue column by removing dollar signs and commas\n",
    "gme_revenue['Revenue'] = gme_revenue['Revenue'].replace({'\\$': '', ',': ''}, regex=True)\n",
    "\n",
    "# Convert Revenue to numeric type (float)\n",
    "gme_revenue['Revenue'] = pd.to_numeric(gme_revenue['Revenue'], errors='coerce')\n",
    "\n",
    "# Check the DataFrame after cleaning\n",
    "print(\"DataFrame after cleaning:\")\n",
    "print(gme_revenue)\n",
    "\n",
    "# Check shape\n",
    "print(\"Final shape:\", gme_revenue.shape)"
   ]
  },
  {
   "cell_type": "code",
   "execution_count": 53,
   "metadata": {
    "ExecuteTime": {
     "end_time": "2024-10-12T20:02:26.193095Z",
     "start_time": "2024-10-12T20:02:26.176652Z"
    },
    "scrolled": true
   },
   "outputs": [
    {
     "name": "stdout",
     "output_type": "stream",
     "text": [
      "          Date  Revenue\n",
      "57  2006-01-31     1667\n",
      "58  2005-10-31      534\n",
      "59  2005-07-31      416\n",
      "60  2005-04-30      475\n",
      "61  2005-01-31      709\n"
     ]
    }
   ],
   "source": [
    "print(gme_revenue.tail())"
   ]
  },
  {
   "cell_type": "markdown",
   "metadata": {},
   "source": [
    "## Question 5: Plot Tesla Stock Graph\n"
   ]
  },
  {
   "cell_type": "code",
   "execution_count": null,
   "metadata": {},
   "outputs": [],
   "source": []
  },
  {
   "cell_type": "code",
   "execution_count": 54,
   "metadata": {
    "ExecuteTime": {
     "end_time": "2024-10-12T23:21:11.010961Z",
     "start_time": "2024-10-12T23:21:10.323799Z"
    }
   },
   "outputs": [],
   "source": [
    "import yfinance as yf\n",
    "import pandas as pd\n",
    "import requests\n",
    "from bs4 import BeautifulSoup\n",
    "import plotly.graph_objects as go\n",
    "from plotly.subplots import make_subplots\n",
    "\n",
    "tesla_data['Date'] = pd.to_datetime(tesla_data['Date'])  # Ensure 'Date' is in datetime format\n",
    "filtered_tesla_data = tesla_data[tesla_data['Date'] <= '2021-06-30']\n",
    "\n",
    "\n",
    "make_graph(filtered_tesla_data, tesla_revenue, 'Tesla')"
   ]
  },
  {
   "cell_type": "code",
   "execution_count": null,
   "metadata": {},
   "outputs": [],
   "source": []
  },
  {
   "cell_type": "markdown",
   "metadata": {},
   "source": [
    "## Question 6 - GameStop Stock and Revenue Dashboard\n"
   ]
  },
  {
   "cell_type": "code",
   "execution_count": null,
   "metadata": {},
   "outputs": [],
   "source": []
  },
  {
   "cell_type": "code",
   "execution_count": 1,
   "metadata": {
    "ExecuteTime": {
     "end_time": "2024-10-12T23:21:11.010961Z",
     "start_time": "2024-10-12T23:21:10.323799Z"
    }
   },
   "outputs": [],
   "source": [
    "import yfinance as yf\n",
    "import pandas as pd\n",
    "import requests\n",
    "from bs4 import BeautifulSoup\n",
    "import plotly.graph_objects as go\n",
    "from plotly.subplots import make_subplots\n",
    "\n",
    "\n",
    "gme_data['Date'] = pd.to_datetime(gme_data['Date'])  # Ensure 'Date' is in datetime format\n",
    "filtered_gme_data = gme_data[gme_data['Date'] <= '2021-06-30']\n",
    "\n",
    "make_graph(filtered_gme_data, gme_revenue, 'GameStop')"
   ]
  },
  {
   "cell_type": "markdown",
   "metadata": {},
   "source": [
    "<h2>About the Authors:</h2> \n",
    "\n",
    "<a href=\"https://www.linkedin.com/in/mekebib-tadesse-assefa/\">Mekebib Tadesse Assefa</a> I am a certified Data Scientist and Engineer with a BSc in Engineering and a Master's in Electoral Policy and Administration. My passion lies at the intersection of technology, data, and governance, particularly in developing innovative solutions to enhance electoral processes and governance in the Global South. With expertise in data analytics, I have a proven track record of leveraging insights to support democracy-building efforts and foster sustainable development. As an advocate for digital rights, I work closely with non-profit organizations, promoting cooperation across borders to empower Global South communities."
   ]
  },
  {
   "cell_type": "markdown",
   "metadata": {},
   "source": [
    "## <h3 align=\"center\"> © Mekebib Tadesse Assefa, Engineer, Data Scientist & Electoral Policy Expert 2024. All rights reserved. <h3/>\n",
    "\n",
    "```toggle ## Change Log\n",
    "```\n",
    "```toggle | Date (YYYY-MM-DD) | Version | Changed By    | Change Description        |\n",
    "```\n",
    "```toggle | ----------------- | ------- | ------------- | ------------------------- |\n",
    "```\n",
    "```toggle | 2022-02-28        | 1.2     | Lakshmi Holla | Changed the URL of GameStop |\n",
    "```\n",
    "```toggle | 2020-11-10        | 1.1     | Malika Singla | Deleted the Optional part |\n",
    "```\n",
    "```toggle | 2020-08-27        | 1.0     | Malika Singla | Added lab to GitLab       |\n",
    "```\n"
   ]
  },
  {
   "cell_type": "code",
   "execution_count": null,
   "metadata": {},
   "outputs": [],
   "source": []
  },
  {
   "cell_type": "code",
   "execution_count": null,
   "metadata": {},
   "outputs": [],
   "source": []
  },
  {
   "cell_type": "code",
   "execution_count": null,
   "metadata": {},
   "outputs": [],
   "source": []
  }
 ],
 "metadata": {
  "kernelspec": {
   "display_name": "Python 3 (ipykernel)",
   "language": "python",
   "name": "python3"
  },
  "language_info": {
   "codemirror_mode": {
    "name": "ipython",
    "version": 3
   },
   "file_extension": ".py",
   "mimetype": "text/x-python",
   "name": "python",
   "nbconvert_exporter": "python",
   "pygments_lexer": "ipython3",
   "version": "3.11.9"
  },
  "prev_pub_hash": "3eff379447b11bb93fcfe9128340484c280bbca92c51ece98405a1f05537425b"
 },
 "nbformat": 4,
 "nbformat_minor": 4
}
